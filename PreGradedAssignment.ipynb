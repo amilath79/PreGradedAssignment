{
 "cells": [
  {
   "cell_type": "markdown",
   "id": "b709d0c4-e95d-46d9-8481-2d8b69464937",
   "metadata": {},
   "source": [
    "# My Jupyter Notebook on IBM Watson Studio"
   ]
  },
  {
   "cell_type": "markdown",
   "id": "68dae190-c5ee-451b-891c-0717ba1a6603",
   "metadata": {},
   "source": [
    "__Amila Hettiarachchi__\n",
    "Data Scientist"
   ]
  },
  {
   "cell_type": "markdown",
   "id": "928d3fb5-005f-4b2a-a21e-b414626edd6b",
   "metadata": {},
   "source": [
    "*I am interested in data science because I have a strong passion for it\n",
    "The ability to extract valuable insights and knowledge from vast amounts of data fascinates me, and I believe that data science can make a significant impact on the world by helping to solve complex problems and inform decision-making.*"
   ]
  },
  {
   "cell_type": "markdown",
   "id": "88fcac1f-9460-4037-9bcf-c2dc6b16b848",
   "metadata": {},
   "source": [
    "### I am writing a code to calculate the power function"
   ]
  },
  {
   "cell_type": "code",
   "execution_count": 4,
   "id": "d338db7e-8a5f-4bc7-9b65-99afe951613c",
   "metadata": {},
   "outputs": [
    {
     "name": "stdout",
     "output_type": "stream",
     "text": [
      "512\n"
     ]
    }
   ],
   "source": [
    "def powerFunction(base, exponent):\n",
    "    return base ** exponent\n",
    "\n",
    "result = powerFunction(8,3)\n",
    "print(result)"
   ]
  },
  {
   "cell_type": "markdown",
   "id": "9d5ee749-f4a5-40e3-96ef-daec91e6634c",
   "metadata": {},
   "source": [
    "---\n",
    "Hyphens"
   ]
  },
  {
   "cell_type": "markdown",
   "id": "feb51a62-2a2d-437c-912a-670b904750d8",
   "metadata": {},
   "source": [
    "| Age| Name    |Sex|\n",
    "| ---|------   |---|\n",
    "| 10 | Amila   | M |\n",
    "| 11 | Thilini | F |"
   ]
  },
  {
   "cell_type": "markdown",
   "id": "ea691a06-7b35-4894-843f-aa3eac214166",
   "metadata": {},
   "source": [
    "~~EndoftheAssignemnt~~"
   ]
  }
 ],
 "metadata": {
  "kernelspec": {
   "display_name": "Python",
   "language": "python",
   "name": "conda-env-python-py"
  },
  "language_info": {
   "codemirror_mode": {
    "name": "ipython",
    "version": 3
   },
   "file_extension": ".py",
   "mimetype": "text/x-python",
   "name": "python",
   "nbconvert_exporter": "python",
   "pygments_lexer": "ipython3",
   "version": "3.7.12"
  }
 },
 "nbformat": 4,
 "nbformat_minor": 5
}
